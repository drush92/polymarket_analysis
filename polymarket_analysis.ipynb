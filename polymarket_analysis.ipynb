{
 "cells": [
  {
   "cell_type": "markdown",
   "metadata": {},
   "source": [
    "# Polymarket Analysis\n",
    "https://docs.polymarket.com/\n",
    "https://pandas.pydata.org/\n",
    "https://matplotlib.org/"
   ]
  },
  {
   "cell_type": "markdown",
   "metadata": {},
   "source": [
    "THe following libraries must be installed:\n",
    "Polymarket's CLOB Client: 'pip install py-clob-client'\n",
    "Pandas\n",
    "Matplotlib: 'pip install matplotlib'"
   ]
  },
  {
   "cell_type": "markdown",
   "metadata": {},
   "source": [
    "Import Libraries and Initialise Client"
   ]
  },
  {
   "cell_type": "code",
   "execution_count": 2,
   "metadata": {},
   "outputs": [
    {
     "name": "stdout",
     "output_type": "stream",
     "text": [
      "Script started\n"
     ]
    }
   ],
   "source": [
    "from py_clob_client.client import ClobClient\n",
    "import pandas as pd\n",
    "import matplotlib.pyplot as plt\n",
    "\n",
    "# Initialize the client\n",
    "host = \"https://clob.polymarket.com/\"\n",
    "chain_id = 1\n",
    "client = ClobClient(host, chain_id=chain_id)\n",
    "print(\"Script started\")"
   ]
  },
  {
   "cell_type": "markdown",
   "metadata": {},
   "source": [
    "Define Function to Fetch Prices"
   ]
  },
  {
   "cell_type": "code",
   "execution_count": 3,
   "metadata": {},
   "outputs": [],
   "source": [
    "# Function to fetch the current price for a given token ID\n",
    "def display_current_prices(token_id):\n",
    "    try:\n",
    "        buy_price = client.get_price(token_id=token_id, side=\"buy\")['price']\n",
    "        sell_price = client.get_price(token_id=token_id, side=\"sell\")['price']\n",
    "        return buy_price, sell_price\n",
    "    except Exception as e:\n",
    "        print(f\"Error fetching prices for Token ID {token_id}: {e}\")\n",
    "        return None, None"
   ]
  },
  {
   "cell_type": "markdown",
   "metadata": {},
   "source": [
    "Fetch Market Data"
   ]
  },
  {
   "cell_type": "code",
   "execution_count": 4,
   "metadata": {},
   "outputs": [],
   "source": [
    "# Fetching market data\n",
    "resp = client.get_markets(next_cursor=\"MTAx\")"
   ]
  },
  {
   "cell_type": "markdown",
   "metadata": {},
   "source": [
    "Process and Organize Data into a DataFrame"
   ]
  },
  {
   "cell_type": "code",
   "execution_count": 5,
   "metadata": {},
   "outputs": [
    {
     "data": {
      "text/html": [
       "<div>\n",
       "<style scoped>\n",
       "    .dataframe tbody tr th:only-of-type {\n",
       "        vertical-align: middle;\n",
       "    }\n",
       "\n",
       "    .dataframe tbody tr th {\n",
       "        vertical-align: top;\n",
       "    }\n",
       "\n",
       "    .dataframe thead th {\n",
       "        text-align: right;\n",
       "    }\n",
       "</style>\n",
       "<table border=\"1\" class=\"dataframe\">\n",
       "  <thead>\n",
       "    <tr style=\"text-align: right;\">\n",
       "      <th></th>\n",
       "      <th>Condition ID</th>\n",
       "      <th>Description</th>\n",
       "      <th>Category</th>\n",
       "      <th>End Date</th>\n",
       "      <th>Active</th>\n",
       "      <th>Closed</th>\n",
       "      <th>Token ID</th>\n",
       "      <th>Outcome</th>\n",
       "      <th>Buy Price</th>\n",
       "      <th>Sell Price</th>\n",
       "    </tr>\n",
       "  </thead>\n",
       "  <tbody>\n",
       "    <tr>\n",
       "      <th>0</th>\n",
       "      <td>0x050cc9439c7e4c4b94ceb606797324db96005043e4ac...</td>\n",
       "      <td>In the upcoming NBA game, scheduled for April ...</td>\n",
       "      <td>No category</td>\n",
       "      <td>2023-04-04T00:00:00Z</td>\n",
       "      <td>True</td>\n",
       "      <td>True</td>\n",
       "      <td>3388491460463634888716293476933215386054635890...</td>\n",
       "      <td>Bulls</td>\n",
       "      <td>0</td>\n",
       "      <td>1</td>\n",
       "    </tr>\n",
       "    <tr>\n",
       "      <th>1</th>\n",
       "      <td>0x050cc9439c7e4c4b94ceb606797324db96005043e4ac...</td>\n",
       "      <td>In the upcoming NBA game, scheduled for April ...</td>\n",
       "      <td>No category</td>\n",
       "      <td>2023-04-04T00:00:00Z</td>\n",
       "      <td>True</td>\n",
       "      <td>True</td>\n",
       "      <td>4105022847428068328494449988687786192998437487...</td>\n",
       "      <td>Hawks</td>\n",
       "      <td>0</td>\n",
       "      <td>1</td>\n",
       "    </tr>\n",
       "    <tr>\n",
       "      <th>2</th>\n",
       "      <td>0x0516761fa71adb2ac2822ad697e7b8c95b09ecb6d508...</td>\n",
       "      <td>In the upcoming NHL game, scheduled for March ...</td>\n",
       "      <td>No category</td>\n",
       "      <td>2023-03-25T00:00:00Z</td>\n",
       "      <td>True</td>\n",
       "      <td>True</td>\n",
       "      <td>2300085749414226010935176792470540480104717755...</td>\n",
       "      <td>Sabres</td>\n",
       "      <td>0</td>\n",
       "      <td>1</td>\n",
       "    </tr>\n",
       "    <tr>\n",
       "      <th>3</th>\n",
       "      <td>0x0516761fa71adb2ac2822ad697e7b8c95b09ecb6d508...</td>\n",
       "      <td>In the upcoming NHL game, scheduled for March ...</td>\n",
       "      <td>No category</td>\n",
       "      <td>2023-03-25T00:00:00Z</td>\n",
       "      <td>True</td>\n",
       "      <td>True</td>\n",
       "      <td>8361695085348722917853193799589338692041017438...</td>\n",
       "      <td>Islanders</td>\n",
       "      <td>0</td>\n",
       "      <td>1</td>\n",
       "    </tr>\n",
       "    <tr>\n",
       "      <th>4</th>\n",
       "      <td>0x05283d0b93c2a4bdc2b0c5e211a6fbe7fa80f787633c...</td>\n",
       "      <td>In the upcoming NFL game, scheduled for Octobe...</td>\n",
       "      <td>No category</td>\n",
       "      <td>2023-10-15T00:00:00Z</td>\n",
       "      <td>True</td>\n",
       "      <td>True</td>\n",
       "      <td>3168083524273964172677838537507303268772754286...</td>\n",
       "      <td>Lions</td>\n",
       "      <td>0</td>\n",
       "      <td>1</td>\n",
       "    </tr>\n",
       "  </tbody>\n",
       "</table>\n",
       "</div>"
      ],
      "text/plain": [
       "                                        Condition ID  \\\n",
       "0  0x050cc9439c7e4c4b94ceb606797324db96005043e4ac...   \n",
       "1  0x050cc9439c7e4c4b94ceb606797324db96005043e4ac...   \n",
       "2  0x0516761fa71adb2ac2822ad697e7b8c95b09ecb6d508...   \n",
       "3  0x0516761fa71adb2ac2822ad697e7b8c95b09ecb6d508...   \n",
       "4  0x05283d0b93c2a4bdc2b0c5e211a6fbe7fa80f787633c...   \n",
       "\n",
       "                                         Description     Category  \\\n",
       "0  In the upcoming NBA game, scheduled for April ...  No category   \n",
       "1  In the upcoming NBA game, scheduled for April ...  No category   \n",
       "2  In the upcoming NHL game, scheduled for March ...  No category   \n",
       "3  In the upcoming NHL game, scheduled for March ...  No category   \n",
       "4  In the upcoming NFL game, scheduled for Octobe...  No category   \n",
       "\n",
       "               End Date  Active  Closed  \\\n",
       "0  2023-04-04T00:00:00Z    True    True   \n",
       "1  2023-04-04T00:00:00Z    True    True   \n",
       "2  2023-03-25T00:00:00Z    True    True   \n",
       "3  2023-03-25T00:00:00Z    True    True   \n",
       "4  2023-10-15T00:00:00Z    True    True   \n",
       "\n",
       "                                            Token ID    Outcome Buy Price  \\\n",
       "0  3388491460463634888716293476933215386054635890...      Bulls         0   \n",
       "1  4105022847428068328494449988687786192998437487...      Hawks         0   \n",
       "2  2300085749414226010935176792470540480104717755...     Sabres         0   \n",
       "3  8361695085348722917853193799589338692041017438...  Islanders         0   \n",
       "4  3168083524273964172677838537507303268772754286...      Lions         0   \n",
       "\n",
       "  Sell Price  \n",
       "0          1  \n",
       "1          1  \n",
       "2          1  \n",
       "3          1  \n",
       "4          1  "
      ]
     },
     "execution_count": 5,
     "metadata": {},
     "output_type": "execute_result"
    }
   ],
   "source": [
    "market_data = []\n",
    "\n",
    "if 'data' in resp:\n",
    "    for market in resp['data']:\n",
    "        for token in market['tokens']:\n",
    "            buy_price, sell_price = display_current_prices(token['token_id'])\n",
    "            market_data.append({\n",
    "                \"Condition ID\": market['condition_id'],\n",
    "                \"Description\": market.get('description', 'No description'),\n",
    "                \"Category\": market.get('category', 'No category'),\n",
    "                \"End Date\": market.get('end_date_iso', 'No end date'),\n",
    "                \"Active\": market['active'],\n",
    "                \"Closed\": market['closed'],\n",
    "                \"Token ID\": token['token_id'],\n",
    "                \"Outcome\": token['outcome'],\n",
    "                \"Buy Price\": buy_price,\n",
    "                \"Sell Price\": sell_price\n",
    "            })\n",
    "\n",
    "df = pd.DataFrame(market_data)\n",
    "df.head()  # Display the first few rows to check the data"
   ]
  },
  {
   "cell_type": "markdown",
   "metadata": {},
   "source": [
    "Data Visualization"
   ]
  },
  {
   "cell_type": "code",
   "execution_count": 6,
   "metadata": {},
   "outputs": [
    {
     "data": {
      "image/png": "[encoded data removed]",
      "text/plain": [
       "<Figure size 640x480 with 1 Axes>"
      ]
     },
     "metadata": {},
     "output_type": "display_data"
    }
   ],
   "source": [
    "# Example visualization: Number of Active vs. Closed Markets\n",
    "active_closed_counts = df.groupby('Active')['Condition ID'].count()\n",
    "active_closed_counts.plot(kind='bar', title='Number of Active vs. Closed Markets')\n",
    "plt.xlabel('Market Status')\n",
    "plt.ylabel('Number of Markets')\n",
    "plt.xticks(ticks=[0, 1], labels=['Closed', 'Active'], rotation=0)  # Adjust labels\n",
    "plt.show()"
   ]
  }
 ],
 "metadata": {
  "kernelspec": {
   "display_name": ".venv",
   "language": "python",
   "name": "python3"
  },
  "language_info": {
   "codemirror_mode": {
    "name": "ipython",
    "version": 3
   },
   "file_extension": ".py",
   "mimetype": "text/x-python",
   "name": "python",
   "nbconvert_exporter": "python",
   "pygments_lexer": "ipython3",
   "version": "3.10.1"
  }
 },
 "nbformat": 4,
 "nbformat_minor": 2
}
